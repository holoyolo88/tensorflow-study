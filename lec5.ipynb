{
  "cells": [
    {
      "metadata": {
        "_uuid": "8f2839f25d086af736a60e9eeb907d3b93b6e0e5",
        "_cell_guid": "b1076dfc-b9ad-4769-8c92-a6c4dae69d19",
        "trusted": true
      },
      "cell_type": "code",
      "source": "# This Python 3 environment comes with many helpful analytics libraries installed\n# It is defined by the kaggle/python docker image: https://github.com/kaggle/docker-python\n# For example, here's several helpful packages to load in \n\nimport numpy as np # linear algebra\nimport pandas as pd # data processing, CSV file I/O (e.g. pd.read_csv)\n\n# Input data files are available in the \"../input/\" directory.\n# For example, running this (by clicking run or pressing Shift+Enter) will list the files in the input directory\n\nimport os\nprint(os.listdir(\"../input\"))\n\n# Any results you write to the current directory are saved as output.",
      "execution_count": null,
      "outputs": []
    },
    {
      "metadata": {
        "_cell_guid": "79c7e3d0-c299-4dcb-8224-4455121ee9b0",
        "_uuid": "d629ff2d2480ee46fbb7e2d37f6b5fab8052498a",
        "trusted": true
      },
      "cell_type": "code",
      "source": "import tensorflow as tf\ntf.set_random_seed(777)",
      "execution_count": null,
      "outputs": []
    },
    {
      "metadata": {
        "trusted": true,
        "_uuid": "852804a09714836c0d5da2c997d23d9be873fbab"
      },
      "cell_type": "code",
      "source": "x_train = [1,2,3]\ny_train = [1,2,3]",
      "execution_count": null,
      "outputs": []
    },
    {
      "metadata": {
        "trusted": true,
        "_uuid": "eab098896d4ffdc1260b490ca24be273230b5cdf"
      },
      "cell_type": "code",
      "source": "#trainable variable\n#텐서플로가 변경하는 값\nW = tf.Variable(tf.random_normal([1]), name = 'weight')\nb = tf.Variable(tf.random_normal([1]), name = 'bias')",
      "execution_count": null,
      "outputs": []
    },
    {
      "metadata": {
        "trusted": true,
        "_uuid": "c823d485b5d1135b52e44472151e6adcc24cdeb8"
      },
      "cell_type": "code",
      "source": "hypothesis = x_train * W + b",
      "execution_count": null,
      "outputs": []
    },
    {
      "metadata": {
        "trusted": true,
        "_uuid": "937f643bf8bd5daa68a04a6ac8ba33ab86f9d1b5"
      },
      "cell_type": "code",
      "source": "cost = tf.reduce_mean(tf.square(hypothesis - y_train))",
      "execution_count": null,
      "outputs": []
    },
    {
      "metadata": {
        "trusted": true,
        "_uuid": "8e22651b4a8594da7afd612fb04f855b0f774a27"
      },
      "cell_type": "code",
      "source": "optimizer = tf.train.GradientDescentOptimizer(learning_rate = 0.01)\ntrain = optimizer.minimize(cost)",
      "execution_count": null,
      "outputs": []
    },
    {
      "metadata": {
        "trusted": true,
        "_uuid": "3a34ee42004e20c3a7205b22d9b36acec0f87def"
      },
      "cell_type": "code",
      "source": "sess = tf.Session()\nsess.run(tf.global_variables_initializer())",
      "execution_count": null,
      "outputs": []
    },
    {
      "metadata": {
        "trusted": true,
        "_uuid": "b4e653672568761cec3f9888247505e3f1e70cf6"
      },
      "cell_type": "code",
      "source": "for step in range(2001):\n    sess.run(train)\n    if step % 20 == 0:\n        print(step, sess.run(cost), sess.run(W), sess.run(b))",
      "execution_count": null,
      "outputs": []
    }
  ],
  "metadata": {
    "kernelspec": {
      "display_name": "Python 3",
      "language": "python",
      "name": "python3"
    },
    "language_info": {
      "name": "python",
      "version": "3.6.6",
      "mimetype": "text/x-python",
      "codemirror_mode": {
        "name": "ipython",
        "version": 3
      },
      "pygments_lexer": "ipython3",
      "nbconvert_exporter": "python",
      "file_extension": ".py"
    }
  },
  "nbformat": 4,
  "nbformat_minor": 1
}